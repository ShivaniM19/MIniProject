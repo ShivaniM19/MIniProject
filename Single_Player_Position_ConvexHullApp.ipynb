{
  "nbformat": 4,
  "nbformat_minor": 0,
  "metadata": {
    "colab": {
      "name": "Single Player Position - ConvexHullApp.ipynb",
      "provenance": [],
      "collapsed_sections": []
    },
    "kernelspec": {
      "name": "python3",
      "display_name": "Python 3"
    },
    "language_info": {
      "name": "python"
    }
  },
  "cells": [
    {
      "cell_type": "code",
      "metadata": {
        "id": "7nkr2rxRdar0",
        "colab": {
          "base_uri": "https://localhost:8080/"
        },
        "outputId": "28a000f0-80db-4737-a004-1675216caf9a"
      },
      "source": [
        "!pip install mplsoccer\n",
        "!pip install pitch\n",
        "import matplotlib.pyplot as plt\n",
        "import pandas as pd\n",
        "import numpy as np\n",
        "from scipy.spatial import ConvexHull\n",
        "import matplotlib as mpl\n",
        "from mplsoccer.pitch import Pitch\n",
        "from scipy import stats"
      ],
      "execution_count": null,
      "outputs": [
        {
          "output_type": "stream",
          "name": "stdout",
          "text": [
            "Looking in indexes: https://pypi.org/simple, https://us-python.pkg.dev/colab-wheels/public/simple/\n",
            "Collecting mplsoccer\n",
            "  Downloading mplsoccer-1.0.7.tar.gz (58 kB)\n",
            "\u001b[K     |████████████████████████████████| 58 kB 6.0 MB/s \n",
            "\u001b[?25hRequirement already satisfied: matplotlib in /usr/local/lib/python3.7/dist-packages (from mplsoccer) (3.2.2)\n",
            "Requirement already satisfied: seaborn in /usr/local/lib/python3.7/dist-packages (from mplsoccer) (0.11.2)\n",
            "Requirement already satisfied: scipy in /usr/local/lib/python3.7/dist-packages (from mplsoccer) (1.4.1)\n",
            "Requirement already satisfied: pandas in /usr/local/lib/python3.7/dist-packages (from mplsoccer) (1.3.5)\n",
            "Requirement already satisfied: pillow in /usr/local/lib/python3.7/dist-packages (from mplsoccer) (7.1.2)\n",
            "Requirement already satisfied: numpy in /usr/local/lib/python3.7/dist-packages (from mplsoccer) (1.21.6)\n",
            "Requirement already satisfied: beautifulsoup4 in /usr/local/lib/python3.7/dist-packages (from mplsoccer) (4.6.3)\n",
            "Requirement already satisfied: cycler>=0.10 in /usr/local/lib/python3.7/dist-packages (from matplotlib->mplsoccer) (0.11.0)\n",
            "Requirement already satisfied: pyparsing!=2.0.4,!=2.1.2,!=2.1.6,>=2.0.1 in /usr/local/lib/python3.7/dist-packages (from matplotlib->mplsoccer) (3.0.9)\n",
            "Requirement already satisfied: kiwisolver>=1.0.1 in /usr/local/lib/python3.7/dist-packages (from matplotlib->mplsoccer) (1.4.3)\n",
            "Requirement already satisfied: python-dateutil>=2.1 in /usr/local/lib/python3.7/dist-packages (from matplotlib->mplsoccer) (2.8.2)\n",
            "Requirement already satisfied: typing-extensions in /usr/local/lib/python3.7/dist-packages (from kiwisolver>=1.0.1->matplotlib->mplsoccer) (4.1.1)\n",
            "Requirement already satisfied: six>=1.5 in /usr/local/lib/python3.7/dist-packages (from python-dateutil>=2.1->matplotlib->mplsoccer) (1.15.0)\n",
            "Requirement already satisfied: pytz>=2017.3 in /usr/local/lib/python3.7/dist-packages (from pandas->mplsoccer) (2022.1)\n",
            "Building wheels for collected packages: mplsoccer\n",
            "  Building wheel for mplsoccer (setup.py) ... \u001b[?25l\u001b[?25hdone\n",
            "  Created wheel for mplsoccer: filename=mplsoccer-1.0.7-py3-none-any.whl size=63806 sha256=dbf4a2e67877bdb8218633814606acab777de29c0a463c180e9225f551264a0e\n",
            "  Stored in directory: /root/.cache/pip/wheels/54/2d/a2/c9b9f319ead90ccd73208a11e426f5fc410e221e802670b6d5\n",
            "Successfully built mplsoccer\n",
            "Installing collected packages: mplsoccer\n",
            "Successfully installed mplsoccer-1.0.7\n",
            "Looking in indexes: https://pypi.org/simple, https://us-python.pkg.dev/colab-wheels/public/simple/\n",
            "Collecting pitch\n",
            "  Downloading pitch-0.0.6-py3-none-any.whl (2.6 kB)\n",
            "Installing collected packages: pitch\n",
            "Successfully installed pitch-0.0.6\n"
          ]
        }
      ]
    },
    {
      "cell_type": "code",
      "metadata": {
        "id": "F09C2ruWdfEF",
        "colab": {
          "base_uri": "https://localhost:8080/",
          "height": 545
        },
        "outputId": "56ab7061-c6ce-45a4-e5d0-e44ceab98b53"
      },
      "source": [
        "teamId = int(input(\"Enter team ID::\"))\n",
        "playerId = int(input(\"Enter player ID::\"))\n",
        "value = int(input(\"Enter value::\"))\n",
        "\n",
        "df = pd.read_csv('/content/convexhull.csv')\n",
        "df = df.fillna(0)\n",
        "\n",
        "#convert the x and y values to the size of the pitch we will use (120,80)\n",
        "df['y'] = .8*df['y']\n",
        "df['x'] = 1.2*df['x']\n",
        "\n",
        "#filter for the team we want and reset the index so that we can use for loops over it\n",
        "df = df[df['teamId']==teamId].reset_index()\n",
        "\n",
        "#the player ids are technically floats so we want to change those to ints\n",
        "df['playerId'] = df['playerId'].astype(int) \n",
        "\n",
        "\n",
        "\n",
        "#A single player\n",
        "\n",
        "#set up the pitch\n",
        "fig, ax = plt.subplots(figsize=(13,8.5))\n",
        "fig.set_facecolor('red')\n",
        "ax.patch.set_facecolor('red')\n",
        "\n",
        "pitch = Pitch(pitch_type='statsbomb', orientation='horizontal',\n",
        "              pitch_color='green', line_color='black', figsize=(13, 8))\n",
        "\n",
        "pitch.draw(ax=ax)\n",
        "plt.gca().invert_yaxis()\n",
        "#Create a new data frame for the player and filter for only passes\n",
        "df1 = df[df[\"playerId\"]==playerId]\n",
        "df1 = df1[df1['type/value']==value]\n",
        "\n",
        "\n",
        "#Create an array of the x/y coordinate groups\n",
        "points = df1[['x', 'y']].values\n",
        "\n",
        "#Create the convex hull\n",
        "hull = ConvexHull(df1[['x','y']])\n",
        "\n",
        "#plot the pass locations\n",
        "plt.scatter(df1.x,df1.y)\n",
        "\n",
        "#Loop through each of the hull's simplices\n",
        "for i in hull.simplices:\n",
        "    #Draw a line between each\n",
        "    plt.plot(points[i, 0], points[i, 1], 'blue')\n",
        "    plt.fill(points[hull.vertices,0], points[hull.vertices,1], c='white', alpha=0.01)\n",
        "\n",
        "\n"
      ],
      "execution_count": null,
      "outputs": [
        {
          "name": "stdout",
          "output_type": "stream",
          "text": [
            "Enter team ID::65\n",
            "Enter player ID::23\n",
            "Enter value::1\n"
          ]
        },
        {
          "output_type": "display_data",
          "data": {
            "text/plain": [
              "<Figure size 936x612 with 1 Axes>"
            ],
            "image/png": "[encoded data removed]"
          },
          "metadata": {}
        }
      ]
    },
    {
      "cell_type": "code",
      "metadata": {
        "id": "urEU0iHFKnrY"
      },
      "source": [
        "123"
      ],
      "execution_count": null,
      "outputs": []
    }
  ]
}